{
 "cells": [
  {
   "cell_type": "code",
   "execution_count": null,
   "id": "edf8aa92",
   "metadata": {},
   "outputs": [
    {
     "name": "stdout",
     "output_type": "stream",
     "text": [
      " * Serving Flask app \"__main__\" (lazy loading)\n",
      " * Environment: production\n",
      "   WARNING: This is a development server. Do not use it in a production deployment.\n",
      "   Use a production WSGI server instead.\n",
      " * Debug mode: off\n"
     ]
    },
    {
     "name": "stderr",
     "output_type": "stream",
     "text": [
      " * Running on http://127.0.0.1:5000/ (Press CTRL+C to quit)\n",
      "127.0.0.1 - - [28/Sep/2021 12:48:35] \"\u001b[37mGET / HTTP/1.1\u001b[0m\" 200 -\n",
      "127.0.0.1 - - [28/Sep/2021 12:48:36] \"\u001b[33mGET /bootstrap.min.css HTTP/1.1\u001b[0m\" 404 -\n",
      "127.0.0.1 - - [28/Sep/2021 12:48:36] \"\u001b[33mGET /favicon.ico HTTP/1.1\u001b[0m\" 404 -\n",
      "127.0.0.1 - - [28/Sep/2021 12:48:42] \"\u001b[37mPOST /result HTTP/1.1\u001b[0m\" 200 -\n",
      "127.0.0.1 - - [28/Sep/2021 12:48:43] \"\u001b[33mGET /bootstrap.min.css HTTP/1.1\u001b[0m\" 404 -\n"
     ]
    }
   ],
   "source": [
    "import os\n",
    "import numpy as np\n",
    "import flask\n",
    "import pickle\n",
    "from flask import Flask, redirect, url_for, request, render_template\n",
    "\n",
    "\n",
    "# creating instance of the class\n",
    "app = Flask(__name__, template_folder='templates')\n",
    "\n",
    "# to tell flask what url should trigger the function index()\n",
    "@app.route('/')\n",
    "#@app.route('/index')\n",
    "def index():\n",
    "    return flask.render_template('index.html')\n",
    "    \n",
    "    \n",
    "# prediction function\n",
    "def ValuePredictor(to_predict_list):\n",
    "    to_predict = np.array(to_predict_list).reshape(1,2)\n",
    "    loaded_model = pickle.load(open(\"model.pkl\",\"rb\")) # load the model\n",
    "    result = loaded_model.predict(to_predict) # predict the values using loded model\n",
    "    return result[0]\n",
    "\n",
    "\n",
    "@app.route('/result', methods = ['POST'])\n",
    "def result():\n",
    "    if request.method == 'POST':\n",
    "        to_predict_list = request.form.values()\n",
    "        to_predict_list = list(map(float, to_predict_list))\n",
    "        result = ValuePredictor(to_predict_list)\n",
    "            \n",
    "        if float(result) == 0:\n",
    "            prediction='Customers with medium annual income and medium annual spend - Standard'\n",
    "        elif float(result) == 1:\n",
    "            prediction='Customers with medium to high annual income and low annual spend - Sensible'\n",
    "        elif float(result) == 2:\n",
    "            prediction='Customers with low annual income and low annual spend - Common'\n",
    "        elif float(result) == 3:\n",
    "            prediction='Customers with low annual income and high annual spend - Carless'\n",
    "        elif float(result) == 4:\n",
    "            prediction='Customers with medium to high annual income and high annual spend - Target'\n",
    "            \n",
    "        return render_template(\"result.html\",prediction=prediction)\n",
    "\n",
    "if __name__ == \"__main__\":\n",
    "    app.run(debug=False) # use debug = False for jupyter notebook"
   ]
  },
  {
   "cell_type": "code",
   "execution_count": null,
   "id": "feba808e",
   "metadata": {},
   "outputs": [],
   "source": []
  }
 ],
 "metadata": {
  "kernelspec": {
   "display_name": "Python 3",
   "language": "python",
   "name": "python3"
  },
  "language_info": {
   "codemirror_mode": {
    "name": "ipython",
    "version": 3
   },
   "file_extension": ".py",
   "mimetype": "text/x-python",
   "name": "python",
   "nbconvert_exporter": "python",
   "pygments_lexer": "ipython3",
   "version": "3.8.8"
  }
 },
 "nbformat": 4,
 "nbformat_minor": 5
}
